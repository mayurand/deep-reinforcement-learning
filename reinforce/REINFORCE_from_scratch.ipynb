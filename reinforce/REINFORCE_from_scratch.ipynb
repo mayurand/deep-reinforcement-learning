{
 "cells": [
  {
   "cell_type": "markdown",
   "metadata": {},
   "source": [
    "# Trial implementation of REINFORCE from scratch\n",
    "- Env - Carpole"
   ]
  },
  {
   "cell_type": "markdown",
   "metadata": {},
   "source": [
    "### Imports"
   ]
  },
  {
   "cell_type": "code",
   "execution_count": 32,
   "metadata": {},
   "outputs": [],
   "source": [
    "import numpy as np\n",
    "import gym\n",
    "import matplotlib.pyplot as plt\n",
    "%matplotlib inline\n",
    "\n",
    "import torch\n",
    "torch.manual_seed(0) # set initial seed\n",
    "import torch.nn as nn\n",
    "import torch.nn.functional as F\n",
    "import torch.optim as optim\n",
    "from torch.distributions import Categorical\n",
    "\n",
    "from collections import deque"
   ]
  },
  {
   "cell_type": "markdown",
   "metadata": {},
   "source": [
    "## Define the environment"
   ]
  },
  {
   "cell_type": "code",
   "execution_count": 33,
   "metadata": {},
   "outputs": [
    {
     "name": "stdout",
     "output_type": "stream",
     "text": [
      "Observation space: Box(4,)\n",
      "Action space: Discrete(2)\n"
     ]
    }
   ],
   "source": [
    "env = gym.make('CartPole-v0')\n",
    "env.seed(0)\n",
    "print('Observation space:',env.observation_space)\n",
    "print('Action space:',env.action_space)"
   ]
  },
  {
   "cell_type": "markdown",
   "metadata": {},
   "source": [
    "## Lets try first with a random policy"
   ]
  },
  {
   "cell_type": "code",
   "execution_count": 65,
   "metadata": {},
   "outputs": [],
   "source": [
    "class Policy():\n",
    "    def act(self,state):\n",
    "        return np.random.choice(2),None"
   ]
  },
  {
   "cell_type": "markdown",
   "metadata": {},
   "source": [
    "### Implement a basic episode"
   ]
  },
  {
   "cell_type": "code",
   "execution_count": 66,
   "metadata": {},
   "outputs": [],
   "source": [
    "policy = Policy()\n",
    "def reinforce(n_episodes = 1000, max_t = 1000, epsilon = 1.0, deque_len = 100):\n",
    "    \n",
    "    scores = []\n",
    "    scores_deque = deque(maxlen=deque_len) # This is there to track the scores achieved in the last deque_len episodes only\n",
    "    \n",
    "    for i_episode in range(1,n_episodes+1):\n",
    "        state = env.reset()\n",
    "        rewards = []\n",
    "        for t in range(max_t):\n",
    "            action, action_probs = policy.act(state)\n",
    "            next_state,reward,done,info = env.step(action)\n",
    "            rewards.append(reward)\n",
    "            if done==True:\n",
    "                break\n",
    "        scores.append(sum(rewards))\n",
    "        scores_deque.append(sum(rewards))\n",
    "        \n",
    "        if i_episode%100==0:\n",
    "            print('Episodes: {}\\t Sum of rewards in the past {} episodes = {}'.format(i_episode, deque_len, np.mean(scores_deque)))\n",
    "            \n",
    "    return scores"
   ]
  },
  {
   "cell_type": "code",
   "execution_count": 67,
   "metadata": {
    "scrolled": true
   },
   "outputs": [
    {
     "name": "stdout",
     "output_type": "stream",
     "text": [
      "Episodes: 100\t Sum of rewards in the past 100 episodes = 22.67\n",
      "Episodes: 200\t Sum of rewards in the past 100 episodes = 21.69\n",
      "Episodes: 300\t Sum of rewards in the past 100 episodes = 21.91\n",
      "Episodes: 400\t Sum of rewards in the past 100 episodes = 23.27\n",
      "Episodes: 500\t Sum of rewards in the past 100 episodes = 24.01\n",
      "Episodes: 600\t Sum of rewards in the past 100 episodes = 23.24\n",
      "Episodes: 700\t Sum of rewards in the past 100 episodes = 22.35\n",
      "Episodes: 800\t Sum of rewards in the past 100 episodes = 21.75\n",
      "Episodes: 900\t Sum of rewards in the past 100 episodes = 22.04\n",
      "Episodes: 1000\t Sum of rewards in the past 100 episodes = 22.92\n"
     ]
    }
   ],
   "source": [
    "scores = reinforce()"
   ]
  },
  {
   "cell_type": "markdown",
   "metadata": {},
   "source": [
    "# Lets write a better policy"
   ]
  },
  {
   "cell_type": "code",
   "execution_count": 70,
   "metadata": {},
   "outputs": [],
   "source": [
    "class Policy(nn.Module):\n",
    "    \"\"\"\n",
    "    This class implements a Neural Network as a function approximator for a policy.\n",
    "    \"\"\"\n",
    "    \n",
    "    def __init__(self, s_size=4, h_size=16, a_size=2):\n",
    "        super(Policy, self).__init__() # TODO: Write what this does?\n",
    "        self.fc1 = nn.Linear(s_size, h_size) # First layer\n",
    "        self.fc2 = nn.Linear(h_size, a_size) # Second layer\n",
    "        \n",
    "    def forward(self, input_state):\n",
    "        h_state = F.relu(self.fc1(input_state))\n",
    "        out = F.softmax(self.fc2(h_state), dim=1) # TODO: Why dim=1\n",
    "        return out\n",
    "    \n",
    "    def act(self, state):\n",
    "        state_in_torch = torch.from_numpy(state).float().unsqueeze(0).to(device) # Convert the state (as a numpy array) into a torch tensor       \n",
    "        action_probs = self.forward(state_in_torch).cpu() # Pass the input state from the network and get action probs\n",
    "        m = Categorical(action_probs) # TODO: Write what this does?\n",
    "        action = m.sample() # TODO: Write what this does?\n",
    "        \n",
    "        return action.item(), m.log_prob(action) # TODO: Write what this does?"
   ]
  },
  {
   "cell_type": "markdown",
   "metadata": {},
   "source": [
    "### Lets try without training the policy how this works\n",
    "Should work exactly similar to a random policy."
   ]
  },
  {
   "cell_type": "code",
   "execution_count": 71,
   "metadata": {},
   "outputs": [
    {
     "name": "stdout",
     "output_type": "stream",
     "text": [
      "Episodes: 100\t Sum of rewards in the past 100 episodes = 20.48\n",
      "Episodes: 200\t Sum of rewards in the past 100 episodes = 21.21\n",
      "Episodes: 300\t Sum of rewards in the past 100 episodes = 22.53\n",
      "Episodes: 400\t Sum of rewards in the past 100 episodes = 22.41\n",
      "Episodes: 500\t Sum of rewards in the past 100 episodes = 21.72\n",
      "Episodes: 600\t Sum of rewards in the past 100 episodes = 20.94\n",
      "Episodes: 700\t Sum of rewards in the past 100 episodes = 21.72\n",
      "Episodes: 800\t Sum of rewards in the past 100 episodes = 23.32\n",
      "Episodes: 900\t Sum of rewards in the past 100 episodes = 22.57\n",
      "Episodes: 1000\t Sum of rewards in the past 100 episodes = 23.02\n"
     ]
    }
   ],
   "source": [
    "device = torch.device(\"cuda:0\" if torch.cuda.is_available() else \"cpu\")\n",
    "\n",
    "policy = Policy().to(device)\n",
    "optimizer = optim.Adam(policy.parameters(), lr=1e-2)\n",
    "\n",
    "scores = reinforce()\n"
   ]
  },
  {
   "cell_type": "markdown",
   "metadata": {},
   "source": [
    "## Implement with training the policy\n",
    "As seen above, an untrained network behaves exactly like a random policy.\n",
    "Now lets write the code for training the policy"
   ]
  },
  {
   "cell_type": "code",
   "execution_count": null,
   "metadata": {},
   "outputs": [],
   "source": []
  }
 ],
 "metadata": {
  "kernelspec": {
   "display_name": "p1_drlnd",
   "language": "python",
   "name": "drlnd"
  },
  "language_info": {
   "codemirror_mode": {
    "name": "ipython",
    "version": 3
   },
   "file_extension": ".py",
   "mimetype": "text/x-python",
   "name": "python",
   "nbconvert_exporter": "python",
   "pygments_lexer": "ipython3",
   "version": "3.6.2"
  }
 },
 "nbformat": 4,
 "nbformat_minor": 2
}
