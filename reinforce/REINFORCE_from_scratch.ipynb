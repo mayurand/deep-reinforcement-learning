{
 "cells": [
  {
   "cell_type": "markdown",
   "metadata": {},
   "source": [
    "# Trial implementation of REINFORCE from scratch\n",
    "- Env : CartPole-v0"
   ]
  },
  {
   "cell_type": "markdown",
   "metadata": {},
   "source": [
    "### Imports"
   ]
  },
  {
   "cell_type": "code",
   "execution_count": 1,
   "metadata": {},
   "outputs": [],
   "source": [
    "import numpy as np\n",
    "import gym\n",
    "import matplotlib.pyplot as plt\n",
    "%matplotlib inline\n",
    "\n",
    "import torch\n",
    "torch.manual_seed(0) # set initial seed\n",
    "import torch.nn as nn\n",
    "import torch.nn.functional as F\n",
    "import torch.optim as optim\n",
    "from torch.distributions import Categorical\n",
    "\n",
    "from collections import deque"
   ]
  },
  {
   "cell_type": "markdown",
   "metadata": {},
   "source": [
    "## Define the environment"
   ]
  },
  {
   "cell_type": "code",
   "execution_count": 2,
   "metadata": {},
   "outputs": [
    {
     "name": "stdout",
     "output_type": "stream",
     "text": [
      "Observation space: Box(4,)\n",
      "Action space: Discrete(2)\n"
     ]
    }
   ],
   "source": [
    "env = gym.make('CartPole-v0')\n",
    "env.seed(0)\n",
    "print('Observation space:',env.observation_space)\n",
    "print('Action space:',env.action_space)"
   ]
  },
  {
   "cell_type": "markdown",
   "metadata": {},
   "source": [
    "## Lets try first with a random policy"
   ]
  },
  {
   "cell_type": "code",
   "execution_count": 3,
   "metadata": {},
   "outputs": [],
   "source": [
    "class Policy():\n",
    "    def act(self,state):\n",
    "        return np.random.choice(2),None"
   ]
  },
  {
   "cell_type": "markdown",
   "metadata": {},
   "source": [
    "### Implement a basic episode"
   ]
  },
  {
   "cell_type": "code",
   "execution_count": 6,
   "metadata": {},
   "outputs": [],
   "source": [
    "policy = Policy()\n",
    "def reinforce(n_episodes = 1000, max_t = 1000, epsilon = 1.0, deque_len = 100):\n",
    "    \n",
    "    scores = []\n",
    "    scores_deque = deque(maxlen=deque_len) # This is there to track the scores achieved in the last deque_len episodes only\n",
    "    \n",
    "    for i_episode in range(1,n_episodes+1):\n",
    "        state = env.reset()\n",
    "        rewards = []\n",
    "        for t in range(max_t):\n",
    "            action, action_probs = policy.act(state)\n",
    "            next_state,reward,done,info = env.step(action)\n",
    "            rewards.append(reward)\n",
    "            if done==True:\n",
    "                break\n",
    "        scores.append(sum(rewards))\n",
    "        scores_deque.append(sum(rewards))\n",
    "        \n",
    "        if i_episode%100==0:\n",
    "            print('Episodes: {}\\t Sum of rewards in the past {} episodes = {}'.format(i_episode, deque_len, np.mean(scores_deque)))\n",
    "            \n",
    "    return scores"
   ]
  },
  {
   "cell_type": "code",
   "execution_count": 7,
   "metadata": {
    "scrolled": true
   },
   "outputs": [
    {
     "name": "stdout",
     "output_type": "stream",
     "text": [
      "Episodes: 100\t Sum of rewards in the past 100 episodes = 22.63\n",
      "Episodes: 200\t Sum of rewards in the past 100 episodes = 23.84\n",
      "Episodes: 300\t Sum of rewards in the past 100 episodes = 21.55\n",
      "Episodes: 400\t Sum of rewards in the past 100 episodes = 22.15\n",
      "Episodes: 500\t Sum of rewards in the past 100 episodes = 23.3\n",
      "Episodes: 600\t Sum of rewards in the past 100 episodes = 20.64\n",
      "Episodes: 700\t Sum of rewards in the past 100 episodes = 21.31\n",
      "Episodes: 800\t Sum of rewards in the past 100 episodes = 21.1\n",
      "Episodes: 900\t Sum of rewards in the past 100 episodes = 21.38\n",
      "Episodes: 1000\t Sum of rewards in the past 100 episodes = 23.53\n"
     ]
    }
   ],
   "source": [
    "scores = reinforce()"
   ]
  },
  {
   "cell_type": "markdown",
   "metadata": {},
   "source": [
    "# Policy approximation using NN"
   ]
  },
  {
   "cell_type": "code",
   "execution_count": 20,
   "metadata": {},
   "outputs": [],
   "source": [
    "class Policy(nn.Module):\n",
    "    \"\"\"\n",
    "    This class implements a Neural Network as a function approximator for a policy.\n",
    "    \"\"\"\n",
    "    \n",
    "    def __init__(self, s_size=4, h_size=16, a_size=2):\n",
    "        \n",
    "        # We need to initialize the nn.Module class within Policy(). \n",
    "        super(Policy, self).__init__() # The super initializes the nn.Module parentclass \n",
    "        self.fc1 = nn.Linear(s_size, h_size) # First layer\n",
    "        self.fc2 = nn.Linear(h_size, a_size) # Second layer\n",
    "        \n",
    "    def forward(self, input_state):\n",
    "        h_state = F.relu(self.fc1(input_state))\n",
    "        out_state = self.fc2(h_state)\n",
    "        out = F.softmax(out_state, dim=1) \n",
    "        return out\n",
    "    \n",
    "    def act(self, state):\n",
    "        state_in_torch = torch.from_numpy(state).float().unsqueeze(0).to(device) # Convert the state (as a numpy array) into a torch tensor       \n",
    "        action_probs = self.forward(state_in_torch).cpu() # Pass the input state from the network and get action probs\n",
    "        m = Categorical(action_probs) # Creates an object with categorical distributions based on the action_probs\n",
    "        action = m.sample() # Select the actions weighed by their action_probs\n",
    "\n",
    "        # We need to return what action to take and its log probability\n",
    "        # action.item() returns the action to take\n",
    "        # m.log_prob(action) returns the log probability of taking that action \n",
    "        \n",
    "        return action.item(), m.log_prob(action) "
   ]
  },
  {
   "cell_type": "markdown",
   "metadata": {},
   "source": [
    "### Lets try without training the policy how this works\n",
    "Should work exactly similar to a random policy."
   ]
  },
  {
   "cell_type": "code",
   "execution_count": 21,
   "metadata": {},
   "outputs": [],
   "source": [
    "device = torch.device(\"cuda:0\" if torch.cuda.is_available() else \"cpu\")\n",
    "\n",
    "policy = Policy().to(device)\n",
    "optimizer = optim.Adam(policy.parameters(), lr=1e-2)"
   ]
  },
  {
   "cell_type": "code",
   "execution_count": 9,
   "metadata": {},
   "outputs": [
    {
     "name": "stdout",
     "output_type": "stream",
     "text": [
      "Episodes: 100\t Sum of rewards in the past 100 episodes = 21.19\n",
      "Episodes: 200\t Sum of rewards in the past 100 episodes = 20.83\n",
      "Episodes: 300\t Sum of rewards in the past 100 episodes = 22.01\n",
      "Episodes: 400\t Sum of rewards in the past 100 episodes = 22.0\n",
      "Episodes: 500\t Sum of rewards in the past 100 episodes = 21.31\n",
      "Episodes: 600\t Sum of rewards in the past 100 episodes = 20.74\n",
      "Episodes: 700\t Sum of rewards in the past 100 episodes = 21.07\n",
      "Episodes: 800\t Sum of rewards in the past 100 episodes = 20.42\n",
      "Episodes: 900\t Sum of rewards in the past 100 episodes = 21.66\n",
      "Episodes: 1000\t Sum of rewards in the past 100 episodes = 22.39\n"
     ]
    }
   ],
   "source": [
    "scores = reinforce()"
   ]
  },
  {
   "cell_type": "markdown",
   "metadata": {},
   "source": [
    "## Implement with training the policy\n",
    "As seen above, an untrained network behaves exactly like a random policy.\n",
    "Now lets write the code for training the policy"
   ]
  },
  {
   "cell_type": "code",
   "execution_count": 24,
   "metadata": {},
   "outputs": [],
   "source": [
    "device = torch.device(\"cuda:0\" if torch.cuda.is_available() else \"cpu\")\n",
    "\n",
    "policy = Policy().to(device)\n",
    "optimizer = optim.Adam(policy.parameters(), lr=1e-2)"
   ]
  },
  {
   "cell_type": "code",
   "execution_count": 25,
   "metadata": {},
   "outputs": [],
   "source": [
    "def reinforce(n_episodes = 1000, max_t = 1000, epsilon = 1.0, deque_len = 100, gamma = 1.0, print_every=100):\n",
    "    \n",
    "    scores = [] # List of cumulative reward received per episode\n",
    "    scores_deque = deque(maxlen=deque_len) # This is there to track the scores achieved in the last deque_len episodes only\n",
    "    \n",
    "    for i_episode in range(1,n_episodes+1):\n",
    "        \n",
    "        state = env.reset() \n",
    "        rewards = [] # Rewards received for an episode\n",
    "        saved_log_probs = [] # Log probs for an episode\n",
    "        \n",
    "        for t in range(max_t):\n",
    "            action, action_probs = policy.act(state)\n",
    "            saved_log_probs.append(action_probs)\n",
    "            \n",
    "            state,reward,done,info = env.step(action)\n",
    "            rewards.append(reward)\n",
    "            \n",
    "            if done==True:\n",
    "                break\n",
    "        \n",
    "        scores.append(sum(rewards))\n",
    "        scores_deque.append(sum(rewards))\n",
    "        \n",
    "        # After the episode, calculate the loss\n",
    "        \n",
    "        discounts = [gamma**i for i in range(len(rewards)+1)] # Rewards with discounting\n",
    "        R = sum([a*b for a,b in zip(discounts, rewards)])\n",
    "        \n",
    "\n",
    "        policy_loss = []\n",
    "        for log_prob in saved_log_probs:\n",
    "            # Based on the log probability of the action and received reward, calculate the cumulative policy loss\n",
    "            policy_loss.append(-log_prob * R) \n",
    "        \n",
    "        policy_loss = torch.cat(policy_loss).sum() # Concatenate all the policy loss values\n",
    "        \n",
    "        optimizer.zero_grad() #TODO: Why zero_grad()\n",
    "        policy_loss.backward()  #TODO: Why backward()\n",
    "        optimizer.step() #TODO: Why step()\n",
    "        \n",
    "        if i_episode % print_every == 0:\n",
    "            print('Episode {}\\tAverage Score: {:.2f}'.format(i_episode, np.mean(scores_deque)))\n",
    "        if np.mean(scores_deque)>=195.0:\n",
    "            print('Environment solved in {:d} episodes!\\tAverage Score: {:.2f}'.format(i_episode-100, np.mean(scores_deque)))\n",
    "            break\n",
    "\n",
    "    return scores"
   ]
  },
  {
   "cell_type": "code",
   "execution_count": 26,
   "metadata": {},
   "outputs": [
    {
     "name": "stdout",
     "output_type": "stream",
     "text": [
      "Episode 100\tAverage Score: 31.83\n",
      "Episode 200\tAverage Score: 57.33\n",
      "Episode 300\tAverage Score: 83.57\n",
      "Episode 400\tAverage Score: 75.08\n",
      "Episode 500\tAverage Score: 178.05\n",
      "Environment solved in 444 episodes!\tAverage Score: 195.17\n"
     ]
    }
   ],
   "source": [
    "scores = reinforce()"
   ]
  },
  {
   "cell_type": "markdown",
   "metadata": {},
   "source": [
    "## Plot the scores"
   ]
  },
  {
   "cell_type": "code",
   "execution_count": 27,
   "metadata": {},
   "outputs": [
    {
     "data": {
      "image/png": "[encoded data removed]",
      "text/plain": [
       "<Figure size 432x288 with 1 Axes>"
      ]
     },
     "metadata": {
      "needs_background": "light"
     },
     "output_type": "display_data"
    }
   ],
   "source": [
    "fig = plt.figure()\n",
    "ax = fig.add_subplot(111)\n",
    "plt.plot(np.arange(1, len(scores)+1), scores)\n",
    "plt.ylabel('Score')\n",
    "plt.xlabel('Episode #')\n",
    "plt.show()"
   ]
  },
  {
   "cell_type": "markdown",
   "metadata": {},
   "source": [
    "### 5. Watch a Smart Agent!"
   ]
  },
  {
   "cell_type": "code",
   "execution_count": 28,
   "metadata": {},
   "outputs": [],
   "source": [
    "env = gym.make('CartPole-v0')\n",
    "rewards=[]\n",
    "state = env.reset()\n",
    "for t in range(1000):\n",
    "    action, _ = policy.act(state)\n",
    "    env.render()\n",
    "    state, reward, done, _ = env.step(action)\n",
    "    rewards.append(reward)\n",
    "    if done:\n",
    "        break \n",
    "\n",
    "        \n",
    "env.close()"
   ]
  },
  {
   "cell_type": "code",
   "execution_count": null,
   "metadata": {},
   "outputs": [],
   "source": []
  }
 ],
 "metadata": {
  "kernelspec": {
   "display_name": "p2_drlnd",
   "language": "python",
   "name": "p2_drlnd"
  },
  "language_info": {
   "codemirror_mode": {
    "name": "ipython",
    "version": 3
   },
   "file_extension": ".py",
   "mimetype": "text/x-python",
   "name": "python",
   "nbconvert_exporter": "python",
   "pygments_lexer": "ipython3",
   "version": "3.6.2"
  }
 },
 "nbformat": 4,
 "nbformat_minor": 2
}
